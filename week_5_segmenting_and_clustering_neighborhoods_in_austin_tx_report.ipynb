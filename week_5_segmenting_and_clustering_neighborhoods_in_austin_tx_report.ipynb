{
 "cells": [
  {
   "cell_type": "markdown",
   "metadata": {},
   "source": [
    "# Segmenting and Clustering Neighborhoods in Austin. Final Report\n",
    "\n",
    "## IBM Applied Data Science Capstone\n",
    "\n",
    "#### Andriy Zakharko, 2020"
   ]
  },
  {
   "cell_type": "markdown",
   "metadata": {},
   "source": [
    "<p align='center'>\n",
    "    <img src='https://external-content.duckduckgo.com/iu/?u=https%3A%2F%2Fupload.wikimedia.org%2Fwikipedia%2Fcommons%2Fa%2Fa5%2FAustin_Evening.jpg&f=1&nofb=1'>\n",
    "    </img>\n",
    "</p>"
   ]
  },
  {
   "cell_type": "markdown",
   "metadata": {},
   "source": [
    "### Report Structure\n",
    "\n",
    "* Introduction where you discuss the business problem and who would be interested in this project.\n",
    "* Data where you describe the data that will be used to solve the problem and the source of the data.\n",
    "* Methodology section which represents the main component of the report where you discuss and describe any exploratory data analysis that you did, any inferential statistical testing that you performed, if any, and what machine learnings were used and why.\n",
    "* Results section where you discuss the results.\n",
    "* Discussion section where you discuss any observations you noted and any recommendations you can make based on the results.\n",
    "* Conclusion section where you conclude the report.\n",
    "<hr>"
   ]
  },
  {
   "cell_type": "markdown",
   "metadata": {},
   "source": [
    "# Introduction"
   ]
  },
  {
   "cell_type": "markdown",
   "metadata": {},
   "source": [
    "Austin is a new fast-growing city in central Texas with great potential for many young families. The first thing to solve before you decided to move to your new place will be a locating right spot on the map to stay. And as for big family, it's really critical to have a Park in close proximity from your home. So, in this project, we're going to apply data science methodology to identify the right neighborhood for the new family in Austin, TX.\n",
    "\n",
    "#### Business Problem\n",
    "Every and each family has it's own unique set of requirements and priorities they'd like to fulfil and so model could be adjusted based on that. Nevertheless, main goal is to make a right decision based on available data"
   ]
  },
  {
   "cell_type": "markdown",
   "metadata": {},
   "source": [
    "# Data"
   ]
  },
  {
   "cell_type": "markdown",
   "metadata": {},
   "source": [
    "#### To solve the problem, we will need the following data:\n",
    "\n",
    "* List of neighbourhoods in Austin, TX. This defines the scope of this project which is confined to the city of Austin, the capital city of Texas. Dataset was expracted from public source https://www.zipdatamaps.com/zipcodes-austin-tx with following structure:\n",
    "  * Name\n",
    "  * Longitude\n",
    "  * Latitude\n",
    "  * Zip\n",
    "\n",
    "* Venue data, particularly data related to parks and trails. We will use this data to perform clustering on the neighbourhoods.\n",
    "\n",
    "#### Sources of data and methods to extract them\n",
    "The list of Austin neighbourhoods with a total of 50 neighbourhoods. We will use web scraping techniques to extract the data from the ZipDataMaps page, with the help of Fiddler and Postman utilities and some python scripting. Dataset was carefully crafted, filtered and placed as Austin_Zip_Loc.csv file (available on GitHub project page as an input data)\n",
    "\n",
    "Latitude and longitude coordinates of the neighbourhoods already available in the dataset so we don't need any further data mining steps so from that we can proceed to work with Foursquare API to get the venue data for those neighbourhoods. \n",
    "\n",
    "Foursquare has one of the largest databases of 105+ million places and is used by over 125,000 developers. Foursquare API will provide many categories of the venue data, we are particularly interested in the Parks and Trails category in order to help us to solve the business problem put forward. \n",
    "\n",
    "This is a project that will make use of many data science skills, like:\n",
    "* web scraping (ZipDataMaps)\n",
    "* working with API (Foursquare)\n",
    "* data cleaning\n",
    "* data wrangling \n",
    "* machine learning (K-means clustering) \n",
    "* map visualization (Folium)\n",
    "\n",
    "In the next section, we will present the Methodology section where we will discuss the steps taken in this project, the data analysis that we did, and the machine learning technique that was used."
   ]
  },
  {
   "cell_type": "markdown",
   "metadata": {},
   "source": [
    "# Methodology"
   ]
  },
  {
   "cell_type": "markdown",
   "metadata": {},
   "source": [
    "Firstly, we need to get the list of neighbourhoods in Austin, TX. Data we needed for the project is available on https://www.zipdatamaps.com/zipcodes-austin-tx. We will do web scraping using Fiddler and Postman tools (to identify http endpoints available and query data via REST API available). Lucaly for us, we will get geographical coordinates along with zip codes and names of naiborhoods so we can proceed to the next step. So as a result - we got a csv file with basic data we need to proceed.\n",
    "\n",
    "Next, enrich data with venues is not such a big deal if you use Foursquare API\n",
    "\n",
    "Next, we will use Foursquare API to get the top 200 venues that are within a radius of 12 miles. We need to register a Foursquare Developer Account in order to obtain the Foursquare ID and Foursquare secret key. \n",
    "\n",
    "We then make API calls to Foursquare passing in the geographical coordinates of the neighbourhoods in a Python loop. Foursquare will return the venue data in JSON format and we will extract the venue name, venue category, venue latitude and longitude. With the data, we can check how many venues were returned for each neighbourhood and examine how\n",
    "many unique categories can be curated from all the returned venues. \n",
    "\n",
    "Then, we will analyse each neighbourhood by grouping the rows by neighbourhood and taking the mean of the frequency of occurrence of each venue category. By doing so, we are also preparing the data for use in clustering. Since we are analysing the “Parks” data, we will filter the “Parks” as venue category for the neighbourhoods.\n",
    "\n",
    "Lastly, we will perform clustering on the data by using k-means clustering. K-means clustering\n",
    "the algorithm identifies k number of centroids, and then allocates every data point to the nearest\n",
    "cluster, with an optimal number of centroids. \n",
    "\n",
    "It is one of the simplest and popular unsupervised machine learning algorithms and is particularly suited to solve the problem for this project. We will cluster the neighbourhoods into 7 clusters.\n",
    "\n",
    "Based on the occurrence of parks in different neighbourhoods, it will help us to answer the question as to which neighbourhoods are most suitable to stay."
   ]
  },
  {
   "cell_type": "markdown",
   "metadata": {},
   "source": [
    "# Results"
   ]
  },
  {
   "attachments": {},
   "cell_type": "markdown",
   "metadata": {},
   "source": [
    "The results from the k-means clustering show that we can categorize the neighbourhoods into 7\n",
    "clusters based on the frequency of occurrence for “Parks” as a key category. With the parks as a key category to segregate we identified next clusters with some venues, typical for the cluster:\n",
    "\n",
    "Cluster#: 0\n",
    "['Park' 'Recreation Center' 'Coffee Shop' 'Night Market'\n",
    " 'Gym / Fitness Center']\n",
    "\n",
    "Cluster#: 1\n",
    "['Trail' 'Mexican Restaurant' 'Storage Facility' 'Convenience Store'\n",
    " 'Pharmacy']\n",
    "\n",
    "Cluster#: 2\n",
    "['Park' 'Business Service' \"Doctor's Office\" 'Pool']\n",
    "\n",
    "Cluster#: 3\n",
    "['Taco Place' 'Coffee Shop' 'Pub' 'Cocktail Bar'\n",
    " 'South American Restaurant']\n",
    "\n",
    "Cluster#: 4\n",
    "['Pharmacy' 'Bank' 'Video Store' 'Park' 'Intersection']\n",
    "\n",
    "Cluster#: 5\n",
    "['Park' 'Pool' 'Playground' 'Tennis Court'\n",
    " 'Residential Building (Apartment / Condo)']\n",
    "\n",
    "Cluster#: 6\n",
    "['Coffee Shop' 'Fast Food Restaurant' 'Sandwich Place'\n",
    " 'Mexican Restaurant' 'American Restaurant']\n",
    " \n",
    "Clusters all sorted based on Parks density.\n",
    "\n",
    "The results of the clustering are visualized in the map below with cluster 0 in red colour, cluster 1 in\n",
    "purple colour, and cluster 2 in mint green colour\n",
    "\n",
    "#### Coloring clusters on the map\n",
    "\n",
    "<img src=\"https://github.com/azakharko/Coursera_Capstone/blob/master/map.PNG?raw=true\" heigth=\"300\" weigth=\"300\">"
   ]
  },
  {
   "cell_type": "markdown",
   "metadata": {},
   "source": [
    "# Discussion"
   ]
  },
  {
   "cell_type": "markdown",
   "metadata": {},
   "source": [
    "As a limitation of the initial dataset, neighborhood names in the list were not unique, more overall most all were indicated as 'Austin' with only a few as something different. That's limiting our ability to cluster data based on neighborhood, so in this project, all most all neighborhoods were represented as corresponding zip codes. \n",
    "\n",
    "Practically speaking, this is how we can toss the data available, slice, and dice it when we found some obstacles in available sources. Of course, we could spend some extra time to discover more sources and grub more data, but usually, this is not the case and you have to work with only data available\n",
    "\n",
    "#### Limitations and Suggestions for Future Research\n",
    "\n",
    "In this project, we only consider one factor i.e. parks proximity, there are other factors such as price and income of residents that could influence the location decision of a new place to stay.\n",
    "\n",
    "However, to the best knowledge of this researcher, such data are not\n",
    "available to the neighborhood level required by this project. Future research could devise a methodology to estimate such data to be used in the clustering algorithm to determine the preferred locations. \n",
    "\n",
    "In addition, this project made use of the free Sandbox Tier Account of Foursquare API that came with limitations as to the number of API calls and results returned. Future research could make use of paid accounts to bypass these limitations and obtain more results.\n",
    "\n",
    "Other thing is to try other clustering algorythm, such as 'DBScan' or 'Random forest' and compare results based on different outputs."
   ]
  },
  {
   "cell_type": "markdown",
   "metadata": {},
   "source": [
    "# Conclusion"
   ]
  },
  {
   "cell_type": "markdown",
   "metadata": {},
   "source": [
    "In this project, we have gone through the process of identifying the business problem, specifying the\n",
    "data required, extracting and preparing the data, performing machine learning by clustering the data\n",
    "into 7 clusters based on their similarities, and lastly providing recommendations to the relevant\n",
    "stakeholders i.e. new families regarding the best locations to stay long term when they move to Austin. \n",
    "\n",
    "To answer the business question that was raised in the introduction section, the\n",
    "answer proposed by this project is: The neighbourhoods in cluster 1 are the most preferred locations\n",
    "to choose based on given priorities."
   ]
  },
  {
   "cell_type": "markdown",
   "metadata": {},
   "source": [
    "<hr>\n",
    "<p style=\"text-align:right\">\n",
    "Andriy Zakharko<br>\n",
    "2020\n",
    "</p>"
   ]
  }
 ],
 "metadata": {
  "kernelspec": {
   "display_name": "Python 3",
   "language": "python",
   "name": "python3"
  },
  "language_info": {
   "codemirror_mode": {
    "name": "ipython",
    "version": 3
   },
   "file_extension": ".py",
   "mimetype": "text/x-python",
   "name": "python",
   "nbconvert_exporter": "python",
   "pygments_lexer": "ipython3",
   "version": "3.7.6"
  }
 },
 "nbformat": 4,
 "nbformat_minor": 4
}
